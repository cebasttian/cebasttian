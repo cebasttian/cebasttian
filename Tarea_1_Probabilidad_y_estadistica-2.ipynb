{
  "nbformat": 4,
  "nbformat_minor": 0,
  "metadata": {
    "colab": {
      "name": "Tarea 1 Probabilidad y estadistica.ipynb",
      "provenance": [],
      "collapsed_sections": []
    },
    "kernelspec": {
      "name": "python3",
      "display_name": "Python 3"
    },
    "language_info": {
      "name": "python"
    }
  },
  "cells": [
    {
      "cell_type": "markdown",
      "metadata": {
        "id": "5HoxHD6PRhna"
      },
      "source": [
        "Se instalan las librerias necesarias"
      ]
    },
    {
      "cell_type": "code",
      "metadata": {
        "id": "4UTYuM0jQvDR",
        "colab": {
          "base_uri": "https://localhost:8080/"
        },
        "outputId": "57bf7f39-65f3-4927-a698-0cd6b495f50e"
      },
      "source": [
        "\"\"\"\n",
        "!pip3 install numpy\n",
        "!pip3 install statistics\n",
        "!pip3 install matplotlib\n",
        "!pip3 install scipy\n",
        "!pip3 install colorama\n",
        "!pip3 install tabulate\n",
        "\"\"\"\n",
        "#NOTA: Esta comentado para que no falle la ejecucion, es necesario instalar las librerias"
      ],
      "execution_count": null,
      "outputs": [
        {
          "output_type": "stream",
          "text": [
            "Requirement already satisfied: numpy in /usr/local/lib/python3.7/dist-packages (1.19.5)\n",
            "Requirement already satisfied: statistics in /usr/local/lib/python3.7/dist-packages (1.0.3.5)\n",
            "Requirement already satisfied: docutils>=0.3 in /usr/local/lib/python3.7/dist-packages (from statistics) (0.16)\n",
            "Requirement already satisfied: matplotlib in /usr/local/lib/python3.7/dist-packages (3.2.2)\n",
            "Requirement already satisfied: pyparsing!=2.0.4,!=2.1.2,!=2.1.6,>=2.0.1 in /usr/local/lib/python3.7/dist-packages (from matplotlib) (2.4.7)\n",
            "Requirement already satisfied: numpy>=1.11 in /usr/local/lib/python3.7/dist-packages (from matplotlib) (1.19.5)\n",
            "Requirement already satisfied: python-dateutil>=2.1 in /usr/local/lib/python3.7/dist-packages (from matplotlib) (2.8.1)\n",
            "Requirement already satisfied: cycler>=0.10 in /usr/local/lib/python3.7/dist-packages (from matplotlib) (0.10.0)\n",
            "Requirement already satisfied: kiwisolver>=1.0.1 in /usr/local/lib/python3.7/dist-packages (from matplotlib) (1.3.1)\n",
            "Requirement already satisfied: six>=1.5 in /usr/local/lib/python3.7/dist-packages (from python-dateutil>=2.1->matplotlib) (1.15.0)\n",
            "Requirement already satisfied: scipy in /usr/local/lib/python3.7/dist-packages (1.4.1)\n",
            "Requirement already satisfied: numpy>=1.13.3 in /usr/local/lib/python3.7/dist-packages (from scipy) (1.19.5)\n",
            "Requirement already satisfied: colorama in /usr/local/lib/python3.7/dist-packages (0.4.4)\n",
            "Requirement already satisfied: tabulate in /usr/local/lib/python3.7/dist-packages (0.8.9)\n"
          ],
          "name": "stdout"
        }
      ]
    },
    {
      "cell_type": "markdown",
      "metadata": {
        "id": "-v83DfPlfsFZ"
      },
      "source": [
        "Se importan las librerias"
      ]
    },
    {
      "cell_type": "code",
      "metadata": {
        "id": "Sel7DJvHRrcB"
      },
      "source": [
        "#%matplotlib notebook *no funciona pero deberia* 🤔🤔\n",
        "%matplotlib inline \n",
        "import numpy as np #importando numpy\n",
        "import statistics as sts #Importando statistics\n",
        "import matplotlib.pyplot as plt #importando matplotlib\n",
        "from scipy import stats #importando scipy.stats\n",
        "from colorama import Fore, Style #Importando colorama.Fore y colorama.Style\n",
        "from tabulate import tabulate #Importando Tabulate"
      ],
      "execution_count": null,
      "outputs": []
    },
    {
      "cell_type": "markdown",
      "metadata": {
        "id": "ExEKKsIokJs1"
      },
      "source": [
        "Funciones que se utilizaran para los calculos"
      ]
    },
    {
      "cell_type": "code",
      "metadata": {
        "id": "821kRRorkOM6"
      },
      "source": [
        "#Valor Minimo\n",
        "def Valor_Minimo(Datos):\n",
        "  return min(Datos)\n",
        "\n",
        "#Valor Maximo\n",
        "def Valor_Maximo(Datos):\n",
        "  return max(Datos)\n",
        "\n",
        "#Rango\n",
        "def Rango(Datos):\n",
        "  return f\"{(Valor_Maximo(Datos)-Valor_Minimo(Datos)):.2f}\"\n",
        "\n",
        "#Media\n",
        "def Media(Datos):\n",
        "  return f\"{np.mean(Datos):.2f}\"\n",
        "\n",
        "#Moda\n",
        "def Moda(Datos):\n",
        "  return stats.mode(Datos)[0][0]\n",
        "\n",
        "#Mediana\n",
        "def Mediana(Datos):\n",
        "  return f\"{sts.median(Datos):.2f}\"\n",
        "\n",
        "#Varianza\n",
        "def Varianza(Datos):\n",
        "  X = float(Media(Datos))\n",
        "  N = len(Datos)\n",
        "  Aux = 0\n",
        "  for x in Datos:\n",
        "    Aux += (x - X)**2\n",
        "  return (Aux/N)\n",
        "\n",
        "#Desviacion estandar\n",
        "def Desviacion_Estandar(Datos):\n",
        "  return (Varianza(Datos)**0.5)"
      ],
      "execution_count": null,
      "outputs": []
    },
    {
      "cell_type": "markdown",
      "metadata": {
        "id": "km_i5Rs-uJZ8"
      },
      "source": [
        "Funcion para mostrar datos en pantalla ordenados"
      ]
    },
    {
      "cell_type": "code",
      "metadata": {
        "id": "NLKyjVeLuL33"
      },
      "source": [
        "def Ver_Matriz(Datos):\n",
        "  Datos.sort()\n",
        "  Matriz = []\n",
        "  Aux = []\n",
        "  for i in range(len(Datos)):\n",
        "    if Datos[i] == Valor_Minimo(Datos):\n",
        "      Aux2 = Fore.BLUE + str(Datos[i]) + Style.RESET_ALL\n",
        "    elif Datos[i] == Valor_Maximo(Datos):\n",
        "      Aux2 = Fore.RED + str(Datos[i]) + Style.RESET_ALL\n",
        "    elif Datos[i] == Moda(Datos):\n",
        "      Aux2 = Fore.GREEN + str(Datos[i]) + Style.RESET_ALL\n",
        "    elif i == 49 or i == 50:\n",
        "      Aux2 = Fore.YELLOW + str(Datos[i]) + Style.RESET_ALL\n",
        "    else:\n",
        "      Aux2 = Style.RESET_ALL + str(Datos[i])\n",
        "\n",
        "    if (i + 1) % 10 == 0:\n",
        "      Aux += [Aux2]\n",
        "      Matriz += [Aux]\n",
        "      Aux = []\n",
        "    else:\n",
        "      Aux += [Aux2]\n",
        "  print(tabulate(Matriz, tablefmt = \"pretty\"))"
      ],
      "execution_count": null,
      "outputs": []
    },
    {
      "cell_type": "markdown",
      "metadata": {
        "id": "MRasvlIfNo8D"
      },
      "source": [
        "Funcion para crear tabla de frecuencias"
      ]
    },
    {
      "cell_type": "code",
      "metadata": {
        "id": "w5ZWtRJENsOg"
      },
      "source": [
        "def Ver_Tabla(Datos):\n",
        "  Tabla = [[\"Intervalo\", \"Frecuencia Absoluta (fi)\", \"Frecuencia Acumulada (Fi)\"]]\n",
        "  Aux = {\"[160-165)\":0, \"[165-170)\":0,\"[170-175)\":0, \"[175-180)\":0,\"[180-185)\":0, \"[185-190)\":0,\"[190-195)\":0, \"[195-200]\":0}\n",
        "  for elem in Datos:\n",
        "    if   160 <= elem < 165:\n",
        "      Aux[\"[160-165)\"] += 1\n",
        "    elif 165 <= elem < 170:\n",
        "      Aux[\"[165-170)\"] += 1\n",
        "    elif 170 <= elem < 175:\n",
        "      Aux[\"[170-175)\"] += 1\n",
        "    elif 175 <= elem < 180:\n",
        "      Aux[\"[175-180)\"] += 1\n",
        "    elif 180 <= elem < 185:\n",
        "      Aux[\"[180-185)\"] += 1\n",
        "    elif 185 <= elem < 190:\n",
        "      Aux[\"[185-190)\"] += 1\n",
        "    elif 190 <= elem < 195:\n",
        "      Aux[\"[190-195)\"] += 1\n",
        "    elif 195 <= elem < 200:\n",
        "      Aux[\"[195-200]\"] += 1\n",
        "  Aux2 = Aux.items()\n",
        "  Alm = 0\n",
        "  for k, v in Aux2:\n",
        "    Alm += v\n",
        "    Tabla += [[k, v, Alm]]\n",
        "  print(tabulate(Tabla, headers = \"firstrow\", tablefmt = \"pretty\"))"
      ],
      "execution_count": null,
      "outputs": []
    },
    {
      "cell_type": "markdown",
      "metadata": {
        "id": "xQD3qtx2cdy1"
      },
      "source": [
        "Funcion para crear histograma"
      ]
    },
    {
      "cell_type": "code",
      "metadata": {
        "id": "yyk9hVumcgRt"
      },
      "source": [
        "def Ver_Histograma(Datos):\n",
        "  Histograma = plt.hist(Datos, bins=[160, 165, 170, 175, 180, 185, 190, 195, 200])\n",
        "  Histograma = plt.axis([160, 200, 7, 18])\n",
        "  Histograma = plt.xlabel(\"Altura\")\n",
        "  Histograma = plt.ylabel(\"Frecuencia\")\n",
        "  Histograma = plt.title(\"Histograma\");"
      ],
      "execution_count": null,
      "outputs": []
    },
    {
      "cell_type": "markdown",
      "metadata": {
        "id": "N7QG-prdodjN"
      },
      "source": [
        "Tabla de datos"
      ]
    },
    {
      "cell_type": "code",
      "metadata": {
        "id": "-BV1rYP8ogX5"
      },
      "source": [
        "Datos =  [187.65, 168.81, 191.85, 194.7,  183.3,  162.83, 172.43, 170.2,  198.11, 171.81] \n",
        "Datos += [177.87, 180.83, 164.51, 199.74, 195.3,  176.74, 164.05, 165.27, 177.87, 168.89] \n",
        "Datos += [194.31, 165.26, 185.33, 172.3,  162.59, 187.14, 168.47, 180.24, 175.36, 179.09] \n",
        "Datos += [178.51, 189.54, 187.38, 166.52, 170.94, 184.58, 173.59, 196.17, 197.32, 165.48] \n",
        "Datos += [197.98, 178.2,  160.09, 192.01, 161.87, 199.04, 197.77, 179.14, 167.14, 191.22] \n",
        "Datos += [177.84, 165.17, 168.38, 160.2,  182.16, 191.9,  173.19, 171.58, 160.01, 167.79] \n",
        "Datos += [165.17, 171.46, 196.01, 167.88, 188.3,  169.51, 185.06, 168.29, 172.92, 185.56]\n",
        "Datos += [185.53, 174.27, 185.11, 172.85, 190.13, 165.32, 179.29, 173.21, 191.71, 197.82]\n",
        "Datos += [183.24, 162.33, 180.45, 199.17, 169.07, 189.77, 188.99, 184.7,  192.72, 177.41]\n",
        "Datos += [179.59, 192.17, 195.47, 162.77, 178.78, 198.87, 194.24, 175.88, 191.08, 194.52]"
      ],
      "execution_count": null,
      "outputs": []
    },
    {
      "cell_type": "markdown",
      "metadata": {
        "id": "2Nx5WmL-NFBs"
      },
      "source": [
        "Mostrar matriz en pantalla"
      ]
    },
    {
      "cell_type": "code",
      "metadata": {
        "colab": {
          "base_uri": "https://localhost:8080/"
        },
        "id": "BNySt8GsNL4X",
        "outputId": "d0741bac-a386-4ab5-8018-e739376cb7fe"
      },
      "source": [
        "Ver_Matriz(Datos)"
      ],
      "execution_count": null,
      "outputs": [
        {
          "output_type": "stream",
          "text": [
            "+--------+--------+--------+--------+--------+--------+--------+--------+--------+--------+\n",
            "| \u001b[34m160.01\u001b[0m | \u001b[0m160.09 | \u001b[0m160.2  | \u001b[0m161.87 | \u001b[0m162.33 | \u001b[0m162.59 | \u001b[0m162.77 | \u001b[0m162.83 | \u001b[0m164.05 | \u001b[0m164.51 |\n",
            "| \u001b[32m165.17\u001b[0m | \u001b[32m165.17\u001b[0m | \u001b[0m165.26 | \u001b[0m165.27 | \u001b[0m165.32 | \u001b[0m165.48 | \u001b[0m166.52 | \u001b[0m167.14 | \u001b[0m167.79 | \u001b[0m167.88 |\n",
            "| \u001b[0m168.29 | \u001b[0m168.38 | \u001b[0m168.47 | \u001b[0m168.81 | \u001b[0m168.89 | \u001b[0m169.07 | \u001b[0m169.51 | \u001b[0m170.2  | \u001b[0m170.94 | \u001b[0m171.46 |\n",
            "| \u001b[0m171.58 | \u001b[0m171.81 | \u001b[0m172.3  | \u001b[0m172.43 | \u001b[0m172.85 | \u001b[0m172.92 | \u001b[0m173.19 | \u001b[0m173.21 | \u001b[0m173.59 | \u001b[0m174.27 |\n",
            "| \u001b[0m175.36 | \u001b[0m175.88 | \u001b[0m176.74 | \u001b[0m177.41 | \u001b[0m177.84 | \u001b[0m177.87 | \u001b[0m177.87 | \u001b[0m178.2  | \u001b[0m178.51 | \u001b[33m178.78\u001b[0m |\n",
            "| \u001b[33m179.09\u001b[0m | \u001b[0m179.14 | \u001b[0m179.29 | \u001b[0m179.59 | \u001b[0m180.24 | \u001b[0m180.45 | \u001b[0m180.83 | \u001b[0m182.16 | \u001b[0m183.24 | \u001b[0m183.3  |\n",
            "| \u001b[0m184.58 | \u001b[0m184.7  | \u001b[0m185.06 | \u001b[0m185.11 | \u001b[0m185.33 | \u001b[0m185.53 | \u001b[0m185.56 | \u001b[0m187.14 | \u001b[0m187.38 | \u001b[0m187.65 |\n",
            "| \u001b[0m188.3  | \u001b[0m188.99 | \u001b[0m189.54 | \u001b[0m189.77 | \u001b[0m190.13 | \u001b[0m191.08 | \u001b[0m191.22 | \u001b[0m191.71 | \u001b[0m191.85 | \u001b[0m191.9  |\n",
            "| \u001b[0m192.01 | \u001b[0m192.17 | \u001b[0m192.72 | \u001b[0m194.24 | \u001b[0m194.31 | \u001b[0m194.52 | \u001b[0m194.7  | \u001b[0m195.3  | \u001b[0m195.47 | \u001b[0m196.01 |\n",
            "| \u001b[0m196.17 | \u001b[0m197.32 | \u001b[0m197.77 | \u001b[0m197.82 | \u001b[0m197.98 | \u001b[0m198.11 | \u001b[0m198.87 | \u001b[0m199.04 | \u001b[0m199.17 | \u001b[31m199.74\u001b[0m |\n",
            "+--------+--------+--------+--------+--------+--------+--------+--------+--------+--------+\n"
          ],
          "name": "stdout"
        }
      ]
    },
    {
      "cell_type": "markdown",
      "metadata": {
        "id": "XGQDEqcDNPKt"
      },
      "source": [
        "Mostrar Estadigrafos"
      ]
    },
    {
      "cell_type": "code",
      "metadata": {
        "colab": {
          "base_uri": "https://localhost:8080/"
        },
        "id": "vU-7Ez9fNX1u",
        "outputId": "a1d4c4f7-07a9-4001-c22b-1820b4bf9715"
      },
      "source": [
        "print(Style.RESET_ALL + \"Valor Minimo: \" + Fore.BLUE   + str(Valor_Minimo(Datos)) + \"\\n\")\n",
        "print(Style.RESET_ALL + \"Valor Maximo: \" + Fore.RED    + str(Valor_Maximo(Datos)) + \"\\n\")\n",
        "print(Style.RESET_ALL + \"Rango: \"        +               str(Rango(Datos))        + \"\\n\")\n",
        "print(Style.RESET_ALL + \"Media: \"        +               str(Media(Datos))        + \"\\n\")\n",
        "print(Style.RESET_ALL + \"Moda: \"         + Fore.GREEN  + str(Moda(Datos))         + \"\\n\")\n",
        "print(Style.RESET_ALL + \"Mediana: \"      + Fore.YELLOW + str(Mediana(Datos))      + \"\\n\")\n",
        "print(Style.RESET_ALL + \"Varianza: \"     +               str(Varianza(Datos))     + \"\\n\")\n",
        "print(Style.RESET_ALL + \"Desviacion Estandar: \"        + str(Desviacion_Estandar(Datos)))"
      ],
      "execution_count": null,
      "outputs": [
        {
          "output_type": "stream",
          "text": [
            "\u001b[0mValor Minimo: \u001b[34m160.01\n",
            "\n",
            "\u001b[0mValor Maximo: \u001b[31m199.74\n",
            "\n",
            "\u001b[0mRango: 39.73\n",
            "\n",
            "\u001b[0mMedia: 179.72\n",
            "\n",
            "\u001b[0mModa: \u001b[32m165.17\n",
            "\n",
            "\u001b[0mMediana: \u001b[33m178.94\n",
            "\n",
            "\u001b[0mVarianza: 137.11543399999996\n",
            "\n",
            "\u001b[0mDesviacion Estandar: 11.709629968534443\n"
          ],
          "name": "stdout"
        }
      ]
    },
    {
      "cell_type": "markdown",
      "metadata": {
        "id": "tGlPBmRdNaCj"
      },
      "source": [
        "Mostrar Histograma"
      ]
    },
    {
      "cell_type": "code",
      "metadata": {
        "colab": {
          "base_uri": "https://localhost:8080/",
          "height": 315
        },
        "id": "_7pQ8tYDNb0G",
        "outputId": "b45a2ef7-d66d-474e-c321-5f87edc9ee1d"
      },
      "source": [
        "Ver_Histograma(Datos)"
      ],
      "execution_count": null,
      "outputs": [
        {
          "output_type": "display_data",
          "data": {
            "image/png": "[encoded data removed]",
            "text/plain": [
              "<Figure size 432x288 with 1 Axes>"
            ]
          },
          "metadata": {
            "tags": [],
            "needs_background": "light"
          }
        }
      ]
    },
    {
      "cell_type": "markdown",
      "metadata": {
        "id": "Ag86YlCeUc_U"
      },
      "source": [
        "Tabla de frecuencia"
      ]
    },
    {
      "cell_type": "code",
      "metadata": {
        "colab": {
          "base_uri": "https://localhost:8080/"
        },
        "id": "P9Bi0XLiU1Jq",
        "outputId": "2a5925de-c42c-4695-f2c1-cf8d901595a6"
      },
      "source": [
        "Ver_Tabla(Datos)"
      ],
      "execution_count": null,
      "outputs": [
        {
          "output_type": "stream",
          "text": [
            "+-----------+--------------------------+---------------------------+\n",
            "| Intervalo | Frecuencia Absoluta (fi) | Frecuencia Acumulada (Fi) |\n",
            "+-----------+--------------------------+---------------------------+\n",
            "| [160-165) |            10            |            10             |\n",
            "| [165-170) |            17            |            27             |\n",
            "| [170-175) |            13            |            40             |\n",
            "| [175-180) |            14            |            54             |\n",
            "| [180-185) |            8             |            62             |\n",
            "| [185-190) |            12            |            74             |\n",
            "| [190-195) |            13            |            87             |\n",
            "| [195-200] |            13            |            100            |\n",
            "+-----------+--------------------------+---------------------------+\n"
          ],
          "name": "stdout"
        }
      ]
    },
    {
      "cell_type": "markdown",
      "metadata": {
        "id": "d4H2UvHvTh6Y"
      },
      "source": [
        "https://relopezbriega.github.io/blog/2015/06/27/probabilidad-y-estadistica-con-python/\n",
        "\n",
        "https://recursospython.com/guias-y-manuales/colorama-texto-fondo-coloreados-la-consola/\n",
        "\n",
        "https://pypi.org/project/tabulate/"
      ]
    }
  ]
}